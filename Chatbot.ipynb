{
 "cells": [
  {
   "cell_type": "code",
   "execution_count": 1,
   "id": "ade3b805",
   "metadata": {},
   "outputs": [],
   "source": [
    "import numpy as np\n",
    "import nltk\n",
    "import string \n",
    "import random"
   ]
  },
  {
   "cell_type": "code",
   "execution_count": 2,
   "id": "65599ff7",
   "metadata": {},
   "outputs": [],
   "source": [
    "f=open('chatbot.txt','r',errors='ignore')\n",
    "raw=f.read()\n",
    "raw=raw.lower()"
   ]
  },
  {
   "cell_type": "code",
   "execution_count": 3,
   "id": "63825122",
   "metadata": {},
   "outputs": [
    {
     "name": "stderr",
     "output_type": "stream",
     "text": [
      "[nltk_data] Downloading package punkt to C:\\Users\\Aniket\n",
      "[nltk_data]     Mishra\\AppData\\Roaming\\nltk_data...\n",
      "[nltk_data]   Package punkt is already up-to-date!\n",
      "[nltk_data] Downloading package wordnet to C:\\Users\\Aniket\n",
      "[nltk_data]     Mishra\\AppData\\Roaming\\nltk_data...\n",
      "[nltk_data]   Package wordnet is already up-to-date!\n"
     ]
    }
   ],
   "source": [
    "nltk.download('punkt')\n",
    "nltk.download('wordnet')\n",
    "senttoken=nltk.sent_tokenize(raw)\n",
    "wordtoken=nltk.word_tokenize(raw)"
   ]
  },
  {
   "cell_type": "code",
   "execution_count": 4,
   "id": "acfae45f",
   "metadata": {},
   "outputs": [
    {
     "data": {
      "text/plain": [
       "['data science is an interdisciplinary field that uses scientific methods, processes, algorithms and systems to extract or extrapolate knowledge and insights from noisy, structured and unstructured data,[1][2] and apply knowledge from data across a broad range of application domains.',\n",
       " 'data science is related to data mining, machine learning, big data, computational statistics and analytics.']"
      ]
     },
     "execution_count": 4,
     "metadata": {},
     "output_type": "execute_result"
    }
   ],
   "source": [
    "senttoken[:2]\n"
   ]
  },
  {
   "cell_type": "code",
   "execution_count": 5,
   "id": "a4f9aa05",
   "metadata": {},
   "outputs": [
    {
     "data": {
      "text/plain": [
       "['data', 'science']"
      ]
     },
     "execution_count": 5,
     "metadata": {},
     "output_type": "execute_result"
    }
   ],
   "source": [
    "wordtoken[:2]"
   ]
  },
  {
   "cell_type": "code",
   "execution_count": 6,
   "id": "3dc1e1e7",
   "metadata": {},
   "outputs": [],
   "source": [
    "lemmer=nltk.stem.WordNetLemmatizer()"
   ]
  },
  {
   "cell_type": "code",
   "execution_count": 7,
   "id": "59c927fe",
   "metadata": {},
   "outputs": [],
   "source": [
    "def LemTokens(tokens):\n",
    "    return [lemmer.lemmatize(token) for token in tokens]\n",
    "remove=dict((ord(punct),None) for punct in string.punctuation)\n",
    "def LemNornalize(text):\n",
    "    return LemTokens(nltk.word_tokenize(text.lower().translate(remove)))"
   ]
  },
  {
   "cell_type": "code",
   "execution_count": 8,
   "id": "012d7825",
   "metadata": {},
   "outputs": [],
   "source": [
    "GREETIN=(\"hello\",\"hi\",\"greetings\",\"sup\",\"what's up\",\"hey\")\n",
    "GREETOUT=(\"hi\", \"hello\",\"hi there\",\"hey\",\"I am glad! You are talking to me\")\n",
    "\n",
    "def greet(sentence):\n",
    "    for word in sentence.split():\n",
    "        if word.lower() in GREETIN:\n",
    "            return random.choice(GREETOUT)"
   ]
  },
  {
   "cell_type": "code",
   "execution_count": 12,
   "id": "1dfc69b8",
   "metadata": {},
   "outputs": [],
   "source": [
    "from sklearn.feature_extraction.text import TfidfVectorizer\n",
    "from sklearn.metrics.pairwise import cosine_similarity"
   ]
  },
  {
   "cell_type": "code",
   "execution_count": 15,
   "id": "6b992bbe",
   "metadata": {},
   "outputs": [],
   "source": [
    "def response(user_response):\n",
    "    robo=''\n",
    "    TfidfVec=TfidfVectorizer(stop_words='english')\n",
    "    tfidf=TfidfVec.fit_transform(senttoken)\n",
    "    vals=cosine_similarity(tfidf[-1],tfidf)\n",
    "    idx=vals.argsort()[0][-2]\n",
    "    flat=vals.flatten()\n",
    "    flat.sort()\n",
    "    req_tfidf=flat[-2]\n",
    "    if(req_tfidf==0):\n",
    "        robo=robo+\"i am sorry i am unable to get you\"\n",
    "        return robo\n",
    "    else:\n",
    "        robo=robo+senttoken[idx]\n",
    "        return robo"
   ]
  },
  {
   "cell_type": "code",
   "execution_count": 16,
   "id": "88a3c7a9",
   "metadata": {},
   "outputs": [
    {
     "name": "stdout",
     "output_type": "stream",
     "text": [
      "bot:i am avi ,lets have a conversation, if you want to end just say bye\n",
      "bye\n",
      "bot:good bye take care\n"
     ]
    }
   ],
   "source": [
    "flag=True\n",
    "print(\"bot:i am avi ,lets have a conversation, if you want to end just say bye\")\n",
    "while(flag==True):\n",
    "    user_response=input()\n",
    "    user_response=user_response.lower()\n",
    "    if(user_response!='bye'):\n",
    "        if(user_response=='thanks'or user_response=='thank you'):\n",
    "            flag=False\n",
    "            print(\"bot:you are welcome\")\n",
    "            \n",
    "        else:\n",
    "            if(greet(user_response)!=None):\n",
    "                print(\"bot:\"+greet(user_response))\n",
    "            else:\n",
    "                senttoken.append(user_response)\n",
    "                wordtoken=wordtoken+nltk.word_tokenize(user_response)\n",
    "                final_word=list(set(wordtoken))\n",
    "                print(\"bot:\",end=\"\")\n",
    "                print(response(user_response))\n",
    "                senttoken.remove(user_response)\n",
    "    else:\n",
    "        flag=False\n",
    "        print(\"bot:good bye take care\")\n",
    "    "
   ]
  },
  {
   "cell_type": "code",
   "execution_count": null,
   "id": "f1524a74",
   "metadata": {},
   "outputs": [],
   "source": []
  }
 ],
 "metadata": {
  "kernelspec": {
   "display_name": "Python 3 (ipykernel)",
   "language": "python",
   "name": "python3"
  },
  "language_info": {
   "codemirror_mode": {
    "name": "ipython",
    "version": 3
   },
   "file_extension": ".py",
   "mimetype": "text/x-python",
   "name": "python",
   "nbconvert_exporter": "python",
   "pygments_lexer": "ipython3",
   "version": "3.10.7"
  }
 },
 "nbformat": 4,
 "nbformat_minor": 5
}
